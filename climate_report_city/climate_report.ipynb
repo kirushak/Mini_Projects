{
 "cells": [
  {
   "cell_type": "code",
   "execution_count": 1,
   "id": "17fd8283",
   "metadata": {},
   "outputs": [
    {
     "name": "stdout",
     "output_type": "stream",
     "text": [
      "Enter City name: delhi\n",
      "Displaying Weater report for: delhi\n",
      "Weather report: delhi\n",
      "\n",
      "                Smoke\n",
      "  \u001b[38;5;240;1m     .--.    \u001b[0m \u001b[38;5;226m23\u001b[0m °C\u001b[0m          \n",
      "  \u001b[38;5;240;1m  .-(    ).  \u001b[0m \u001b[1m↘\u001b[0m \u001b[38;5;118m6\u001b[0m km/h\u001b[0m       \n",
      "  \u001b[38;5;240;1m (___.__)__) \u001b[0m 2 km\u001b[0m           \n",
      "                0.0 mm\u001b[0m         \n",
      "                                                       ┌─────────────┐                                                       \n",
      "┌──────────────────────────────┬───────────────────────┤  Wed 22 Feb ├───────────────────────┬──────────────────────────────┐\n",
      "│            Morning           │             Noon      └──────┬──────┘     Evening           │             Night            │\n",
      "├──────────────────────────────┼──────────────────────────────┼──────────────────────────────┼──────────────────────────────┤\n",
      "│ \u001b[38;5;226m    \\   /    \u001b[0m Sunny          │               Overcast       │ \u001b[38;5;226m    \\   /    \u001b[0m Clear          │ \u001b[38;5;226m    \\   /    \u001b[0m Clear          │\n",
      "│ \u001b[38;5;226m     .-.     \u001b[0m \u001b[38;5;226m23\u001b[0m °C\u001b[0m          │ \u001b[38;5;240;1m     .--.    \u001b[0m \u001b[38;5;214m+30\u001b[0m(\u001b[38;5;214m28\u001b[0m) °C\u001b[0m     │ \u001b[38;5;226m     .-.     \u001b[0m \u001b[38;5;220m+26\u001b[0m(\u001b[38;5;220m25\u001b[0m) °C\u001b[0m     │ \u001b[38;5;226m     .-.     \u001b[0m \u001b[38;5;226m23\u001b[0m °C\u001b[0m          │\n",
      "│ \u001b[38;5;226m  ― (   ) ―  \u001b[0m \u001b[1m→\u001b[0m \u001b[38;5;118m6\u001b[0m-\u001b[38;5;154m7\u001b[0m km/h\u001b[0m     │ \u001b[38;5;240;1m  .-(    ).  \u001b[0m \u001b[1m→\u001b[0m \u001b[38;5;190m11\u001b[0m-\u001b[38;5;226m13\u001b[0m km/h\u001b[0m   │ \u001b[38;5;226m  ― (   ) ―  \u001b[0m \u001b[1m→\u001b[0m \u001b[38;5;154m9\u001b[0m-\u001b[38;5;220m16\u001b[0m km/h\u001b[0m    │ \u001b[38;5;226m  ― (   ) ―  \u001b[0m \u001b[1m↘\u001b[0m \u001b[38;5;154m9\u001b[0m-\u001b[38;5;214m20\u001b[0m km/h\u001b[0m    │\n",
      "│ \u001b[38;5;226m     `-’     \u001b[0m 10 km\u001b[0m          │ \u001b[38;5;240;1m (___.__)__) \u001b[0m 10 km\u001b[0m          │ \u001b[38;5;226m     `-’     \u001b[0m 10 km\u001b[0m          │ \u001b[38;5;226m     `-’     \u001b[0m 10 km\u001b[0m          │\n",
      "│ \u001b[38;5;226m    /   \\    \u001b[0m 0.0 mm | 0%\u001b[0m    │               0.0 mm | 0%\u001b[0m    │ \u001b[38;5;226m    /   \\    \u001b[0m 0.0 mm | 0%\u001b[0m    │ \u001b[38;5;226m    /   \\    \u001b[0m 0.0 mm | 0%\u001b[0m    │\n",
      "└──────────────────────────────┴──────────────────────────────┴──────────────────────────────┴──────────────────────────────┘\n",
      "                                                       ┌─────────────┐                                                       \n",
      "┌──────────────────────────────┬───────────────────────┤  Thu 23 Feb ├───────────────────────┬──────────────────────────────┐\n",
      "│            Morning           │             Noon      └──────┬──────┘     Evening           │             Night            │\n",
      "├──────────────────────────────┼──────────────────────────────┼──────────────────────────────┼──────────────────────────────┤\n",
      "│ \u001b[38;5;226m    \\   /    \u001b[0m Sunny          │ \u001b[38;5;226m    \\   /    \u001b[0m Sunny          │ \u001b[38;5;226m    \\   /    \u001b[0m Clear          │ \u001b[38;5;226m    \\   /    \u001b[0m Clear          │\n",
      "│ \u001b[38;5;226m     .-.     \u001b[0m \u001b[38;5;226m23\u001b[0m °C\u001b[0m          │ \u001b[38;5;226m     .-.     \u001b[0m \u001b[38;5;208m+32\u001b[0m(\u001b[38;5;214m30\u001b[0m) °C\u001b[0m     │ \u001b[38;5;226m     .-.     \u001b[0m \u001b[38;5;214m+28\u001b[0m(\u001b[38;5;220m26\u001b[0m) °C\u001b[0m     │ \u001b[38;5;226m     .-.     \u001b[0m \u001b[38;5;226m23\u001b[0m °C\u001b[0m          │\n",
      "│ \u001b[38;5;226m  ― (   ) ―  \u001b[0m \u001b[1m→\u001b[0m \u001b[38;5;154m9\u001b[0m-\u001b[38;5;190m11\u001b[0m km/h\u001b[0m    │ \u001b[38;5;226m  ― (   ) ―  \u001b[0m \u001b[1m→\u001b[0m \u001b[38;5;226m13\u001b[0m-\u001b[38;5;226m15\u001b[0m km/h\u001b[0m   │ \u001b[38;5;226m  ― (   ) ―  \u001b[0m \u001b[1m→\u001b[0m \u001b[38;5;154m9\u001b[0m-\u001b[38;5;226m14\u001b[0m km/h\u001b[0m    │ \u001b[38;5;226m  ― (   ) ―  \u001b[0m \u001b[1m→\u001b[0m \u001b[38;5;190m10\u001b[0m-\u001b[38;5;214m22\u001b[0m km/h\u001b[0m   │\n",
      "│ \u001b[38;5;226m     `-’     \u001b[0m 10 km\u001b[0m          │ \u001b[38;5;226m     `-’     \u001b[0m 10 km\u001b[0m          │ \u001b[38;5;226m     `-’     \u001b[0m 10 km\u001b[0m          │ \u001b[38;5;226m     `-’     \u001b[0m 10 km\u001b[0m          │\n",
      "│ \u001b[38;5;226m    /   \\    \u001b[0m 0.0 mm | 0%\u001b[0m    │ \u001b[38;5;226m    /   \\    \u001b[0m 0.0 mm | 0%\u001b[0m    │ \u001b[38;5;226m    /   \\    \u001b[0m 0.0 mm | 0%\u001b[0m    │ \u001b[38;5;226m    /   \\    \u001b[0m 0.0 mm | 0%\u001b[0m    │\n",
      "└──────────────────────────────┴──────────────────────────────┴──────────────────────────────┴──────────────────────────────┘\n",
      "                                                       ┌─────────────┐                                                       \n",
      "┌──────────────────────────────┬───────────────────────┤  Fri 24 Feb ├───────────────────────┬──────────────────────────────┐\n",
      "│            Morning           │             Noon      └──────┬──────┘     Evening           │             Night            │\n",
      "├──────────────────────────────┼──────────────────────────────┼──────────────────────────────┼──────────────────────────────┤\n",
      "│               Cloudy         │               Overcast       │ \u001b[38;5;226m    \\   /    \u001b[0m Clear          │ \u001b[38;5;226m    \\   /    \u001b[0m Clear          │\n",
      "│ \u001b[38;5;250m     .--.    \u001b[0m \u001b[38;5;226m23\u001b[0m °C\u001b[0m          │ \u001b[38;5;240;1m     .--.    \u001b[0m \u001b[38;5;208m+31\u001b[0m(\u001b[38;5;214m28\u001b[0m) °C\u001b[0m     │ \u001b[38;5;226m     .-.     \u001b[0m \u001b[38;5;214m+29\u001b[0m(\u001b[38;5;220m27\u001b[0m) °C\u001b[0m     │ \u001b[38;5;226m     .-.     \u001b[0m \u001b[38;5;226m+24\u001b[0m(\u001b[38;5;226m23\u001b[0m) °C\u001b[0m     │\n",
      "│ \u001b[38;5;250m  .-(    ).  \u001b[0m \u001b[1m→\u001b[0m \u001b[38;5;154m9\u001b[0m-\u001b[38;5;190m11\u001b[0m km/h\u001b[0m    │ \u001b[38;5;240;1m  .-(    ).  \u001b[0m \u001b[1m→\u001b[0m \u001b[38;5;190m12\u001b[0m-\u001b[38;5;226m13\u001b[0m km/h\u001b[0m   │ \u001b[38;5;226m  ― (   ) ―  \u001b[0m \u001b[1m↗\u001b[0m \u001b[38;5;190m10\u001b[0m-\u001b[38;5;226m15\u001b[0m km/h\u001b[0m   │ \u001b[38;5;226m  ― (   ) ―  \u001b[0m \u001b[1m→\u001b[0m \u001b[38;5;190m10\u001b[0m-\u001b[38;5;214m22\u001b[0m km/h\u001b[0m   │\n",
      "│ \u001b[38;5;250m (___.__)__) \u001b[0m 10 km\u001b[0m          │ \u001b[38;5;240;1m (___.__)__) \u001b[0m 10 km\u001b[0m          │ \u001b[38;5;226m     `-’     \u001b[0m 10 km\u001b[0m          │ \u001b[38;5;226m     `-’     \u001b[0m 10 km\u001b[0m          │\n",
      "│               0.0 mm | 0%\u001b[0m    │               0.0 mm | 0%\u001b[0m    │ \u001b[38;5;226m    /   \\    \u001b[0m 0.0 mm | 0%\u001b[0m    │ \u001b[38;5;226m    /   \\    \u001b[0m 0.0 mm | 0%\u001b[0m    │\n",
      "└──────────────────────────────┴──────────────────────────────┴──────────────────────────────┴──────────────────────────────┘\n",
      "Location: Delhi, India [28.6517178,77.2219388]\n",
      "\n",
      "Follow \u001b[46m\u001b[30m@igor_chubin\u001b[0m for wttr.in updates\n",
      "\n"
     ]
    }
   ],
   "source": [
    "'''\n",
    "Python Program to Check Weather Forecast\n",
    "'''\n",
    "\n",
    "# Import the necessary modules!\n",
    "import requests\n",
    "\n",
    "# Input the city name\n",
    "city = input('Enter City name: ')\n",
    "\n",
    "# Or you can also hard-code the value\n",
    "# city = 'Irkutsk'\n",
    "\n",
    "# Display the message\n",
    "print('Displaying Weater report for: ' + city)\n",
    "\n",
    "# Fetch the weater details\n",
    "url = 'https://wttr.in/{}'.format(city) # Use of format to pass city as a parameter here\n",
    "res = requests.get(url)                 # Make use of the requests module\n",
    "\n",
    "# Display the result\n",
    "# Resultant data is stored in res. \n",
    "# Use of the text method to extract our desired weather details to display the result\n",
    "print(res.text)"
   ]
  },
  {
   "cell_type": "code",
   "execution_count": null,
   "id": "c53a2820",
   "metadata": {},
   "outputs": [],
   "source": []
  }
 ],
 "metadata": {
  "kernelspec": {
   "display_name": "Python 3 (ipykernel)",
   "language": "python",
   "name": "python3"
  },
  "language_info": {
   "codemirror_mode": {
    "name": "ipython",
    "version": 3
   },
   "file_extension": ".py",
   "mimetype": "text/x-python",
   "name": "python",
   "nbconvert_exporter": "python",
   "pygments_lexer": "ipython3",
   "version": "3.9.13"
  }
 },
 "nbformat": 4,
 "nbformat_minor": 5
}
